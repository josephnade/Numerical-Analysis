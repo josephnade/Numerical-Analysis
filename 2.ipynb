{
  "nbformat": 4,
  "nbformat_minor": 0,
  "metadata": {
    "colab": {
      "name": "Answers.ipynb",
      "provenance": [],
      "collapsed_sections": []
    },
    "kernelspec": {
      "name": "python3",
      "display_name": "Python 3"
    },
    "language_info": {
      "name": "python"
    }
  },
  "cells": [
    {
      "cell_type": "code",
      "source": [
        "#### ANSWER 1 ####\n",
        "\n",
        "x = [-2, 1, 4, -1, 3, -4]\n",
        "y = [-1, 2, 59, 4, 24, -53]\n",
        "\n",
        "\n",
        "def multiplier(iter, r):\n",
        "    result = 1\n",
        "    while iter > 0:\n",
        "        result = result * (r - x[iter - 1])\n",
        "        iter -= 1\n",
        "    return result\n",
        "\n",
        "\n",
        "def newton_divide(r, x, y, counter, iterator, iterator2, result_list, p):\n",
        "    substractor = 1\n",
        "    length = counter\n",
        "    c = iterator\n",
        "    iterator2 = iterator\n",
        "    while c > 0:\n",
        "        result_list.append(0)\n",
        "        c -= 1\n",
        "    while length - 1 != 0:\n",
        "        result = (y[iterator2] - y[iterator2 - substractor]) / (x[iterator2] - x[\n",
        "            iterator2 - substractor])\n",
        "        result_list.append(result)\n",
        "        length -= 1\n",
        "        iterator2 += 1\n",
        "        substractor += 1\n",
        "    if iterator == len(x):\n",
        "        return p\n",
        "    all_result.append(result_list)\n",
        "    p = p + all_result[iterator - 1][iterator] * multiplier(iterator, r)\n",
        "    return newton_divide(r, x, result_list, counter - 1, iterator + 1, iterator2, [], p)\n",
        "\n",
        "def printing_table(liste):\n",
        "    for i in range(len(liste)):\n",
        "        for j in range(len(liste)):\n",
        "            print(f\"--{liste[i][j]:.1f}--\")\n",
        "        print(\"****\")\n",
        "iterator = 1\n",
        "iterator2 = 1\n",
        "result_list = []\n",
        "p = y[0]\n",
        "all_result = []\n",
        "length = len(x)"
      ],
      "metadata": {
        "id": "K5ky-cio4l4R"
      },
      "execution_count": 2,
      "outputs": []
    },
    {
      "cell_type": "code",
      "source": [
        "number = float(input((\"Please enter a x number =\")))\n",
        "print(f\"Value at {number} is {newton_divide(number, x, y, length, iterator, iterator2, result_list, p)}\")\n",
        "print(\"You can check the solution table at below.\")\n",
        "printing_table(all_result)"
      ],
      "metadata": {
        "colab": {
          "base_uri": "https://localhost:8080/"
        },
        "id": "fS1Qi2vm4lv1",
        "outputId": "4fa5dc5d-3abe-4726-9c41-9c4a98e6ae26"
      },
      "execution_count": 3,
      "outputs": [
        {
          "output_type": "stream",
          "name": "stdout",
          "text": [
            "Please enter a x number =10\n",
            "Value at 10.0 is 983.0\n",
            "You can check the solution table at below.\n",
            "--0.0--\n",
            "--1.0--\n",
            "--10.0--\n",
            "--5.0--\n",
            "--5.0--\n",
            "****\n",
            "--0.0--\n",
            "--0.0--\n",
            "--3.0--\n",
            "---2.0--\n",
            "--2.0--\n",
            "****\n",
            "--0.0--\n",
            "--0.0--\n",
            "--0.0--\n",
            "--1.0--\n",
            "--1.0--\n",
            "****\n",
            "--0.0--\n",
            "--0.0--\n",
            "--0.0--\n",
            "--0.0--\n",
            "--0.0--\n",
            "****\n",
            "--0.0--\n",
            "--0.0--\n",
            "--0.0--\n",
            "--0.0--\n",
            "--0.0--\n",
            "****\n"
          ]
        }
      ]
    },
    {
      "cell_type": "code",
      "source": [
        "#--------------------------------------------------------------------------------------------------------------------------------------------------------#"
      ],
      "metadata": {
        "id": "F7Oi5F0T4lls"
      },
      "execution_count": null,
      "outputs": []
    },
    {
      "cell_type": "code",
      "source": [
        "#### ANSWER 2 ####\n",
        "\n",
        "def func(x):\n",
        "    result = (3 * pow(x, 3) + pow(x, 2) - x - 5)\n",
        "    return result\n",
        "\n",
        "\n",
        "def limitation(minimum, maximum):\n",
        "    while True:\n",
        "        if func(minimum) * func(maximum) < 0:\n",
        "            print(f\"There is root in [{minimum} , {maximum}]\")\n",
        "            break\n",
        "        else:\n",
        "            minimum += 1\n",
        "            maximum += 1\n",
        "    return minimum, maximum\n",
        "\n",
        "\n",
        "def bisection(minimum, maximum):\n",
        "    iterator = 0\n",
        "    while True:\n",
        "        avg = (minimum + maximum) / 2\n",
        "        if round(func(minimum), 4) == round(func(avg), 4):\n",
        "            return minimum, iterator\n",
        "        elif round(func(maximum), 4) == round(func(avg), 4):\n",
        "            return maximum, iterator\n",
        "        elif func(minimum) * func(avg) < 0:\n",
        "            maximum = avg\n",
        "            iterator += 1\n",
        "        elif func(avg) * func(maximum) < 0:\n",
        "            minimum = avg\n",
        "            iterator += 1\n",
        "\n",
        "\n",
        "minimum, maximum = limitation(0, 1)\n",
        "result, iter = bisection(minimum, maximum)"
      ],
      "metadata": {
        "colab": {
          "base_uri": "https://localhost:8080/"
        },
        "id": "_UTcvFZF-Q4g",
        "outputId": "daa7e6b4-31fc-40fd-9dcc-44e1e9cec262"
      },
      "execution_count": 4,
      "outputs": [
        {
          "output_type": "stream",
          "name": "stdout",
          "text": [
            "There is root in [1 , 2]\n"
          ]
        }
      ]
    },
    {
      "cell_type": "code",
      "source": [
        "print(f\"Answer has been found at {iter} iteration. Answer is {round(result, 4)}\")"
      ],
      "metadata": {
        "colab": {
          "base_uri": "https://localhost:8080/"
        },
        "id": "29WCVvHI-eEH",
        "outputId": "dcd07fa4-4b10-400d-8a93-39fba852d315"
      },
      "execution_count": 5,
      "outputs": [
        {
          "output_type": "stream",
          "name": "stdout",
          "text": [
            "Answer has been found at 17 iteration. Answer is 1.1697\n"
          ]
        }
      ]
    },
    {
      "cell_type": "code",
      "source": [
        "#--------------------------------------------------------------------------------------------------------------------------------------------------------#"
      ],
      "metadata": {
        "id": "HQJoI2Mk4lW4"
      },
      "execution_count": null,
      "outputs": []
    },
    {
      "cell_type": "code",
      "source": [
        "#### ANSWER 3 ####\n",
        "\n",
        "# x values\n",
        "x = [2.36, 2.37, 2.38, 2.39]\n",
        "\n",
        "# f(x) values\n",
        "fx = [0.85866, 0.86289, 0.86710, 0.87129]\n",
        "\n",
        "\n",
        "h = 0.01\n",
        "\n",
        "\n",
        "f_first = (-1.5*fx[0] + 2*fx[1] - 0.5*fx[2]) / h\n",
        "\n",
        "\n",
        "f_second = (2*fx[0] - 5*fx[1] + 4*fx[2] - fx[3]) / h / h\n",
        "\n",
        "print(f\"f'(2.36) = {f_first}\\nf''(2.36) = {f_second}\")"
      ],
      "metadata": {
        "colab": {
          "base_uri": "https://localhost:8080/"
        },
        "id": "x0bpl4cvHiJ8",
        "outputId": "7f1261ce-6181-497e-82b6-87801c769efb"
      },
      "execution_count": null,
      "outputs": [
        {
          "output_type": "stream",
          "name": "stdout",
          "text": [
            "f'(2.36) = 0.42400000000001326\n",
            "f''(2.36) = -0.20000000000020002\n"
          ]
        }
      ]
    },
    {
      "cell_type": "code",
      "source": [
        "print(f\"f'(2.36) = {f_first}\\nf''(2.36) = {f_second}\")"
      ],
      "metadata": {
        "colab": {
          "base_uri": "https://localhost:8080/"
        },
        "id": "Runui0M1IyaY",
        "outputId": "dc1144b8-6c59-40ce-b665-22ae668a13b5"
      },
      "execution_count": null,
      "outputs": [
        {
          "output_type": "stream",
          "name": "stdout",
          "text": [
            "f'(2.36) = 0.42400000000001326\n",
            "f''(2.36) = -0.20000000000020002\n"
          ]
        }
      ]
    },
    {
      "cell_type": "code",
      "source": [
        "#--------------------------------------------------------------------------------------------------------------------------------------------------------#"
      ],
      "metadata": {
        "id": "Tz1CNgSoGLlF"
      },
      "execution_count": null,
      "outputs": []
    },
    {
      "cell_type": "code",
      "source": [
        "#### ANSWER 4 ####\n",
        "\n",
        "\n",
        "import math\n",
        "def func(x):\n",
        "    return x * math.cos(x)\n",
        "\n",
        "\n",
        "def simpsons_rule(lower_limit, upper_limit, n):\n",
        "    # Calculating the value of h\n",
        "    h = (upper_limit - lower_limit) / n\n",
        "\n",
        "    x = []\n",
        "    fx = []\n",
        "\n",
        "    # Calculating values of x and f(x)\n",
        "    i = 0\n",
        "    while i <= n:\n",
        "        x.append(lower_limit + i * h)\n",
        "        fx.append(func(x[i]))\n",
        "        i += 1\n",
        "\n",
        "    # Calculating result\n",
        "    result = 0\n",
        "    i = 0\n",
        "    while i <= n:\n",
        "        if i == 0 or i == n:\n",
        "            result += fx[i]\n",
        "        elif i % 2 != 0:\n",
        "            result += 4 * fx[i]\n",
        "        else:\n",
        "            result += 2 * fx[i]\n",
        "        i += 1\n",
        "    result = result * (h / 3)\n",
        "    return result\n",
        "\n",
        "\n",
        "lower_limit = 0\n",
        "upper_limit = 3.14159"
      ],
      "metadata": {
        "id": "dq7wF8hCFr0H"
      },
      "execution_count": null,
      "outputs": []
    },
    {
      "cell_type": "code",
      "execution_count": null,
      "metadata": {
        "colab": {
          "base_uri": "https://localhost:8080/"
        },
        "id": "k5K489nmABi5",
        "outputId": "8fa5ffec-5c19-437a-dc9a-b01a0deac168"
      },
      "outputs": [
        {
          "output_type": "stream",
          "name": "stdout",
          "text": [
            "-1.6449269230379984\n"
          ]
        }
      ],
      "source": [
        "print(simpsons_rule(lower_limit, upper_limit, 2))"
      ]
    },
    {
      "cell_type": "code",
      "source": [
        "print(simpsons_rule(lower_limit, upper_limit, 4))"
      ],
      "metadata": {
        "colab": {
          "base_uri": "https://localhost:8080/"
        },
        "id": "0MojL2LeFz8D",
        "outputId": "c49bb223-4c0a-49e8-f319-3d5a3a1246e1"
      },
      "execution_count": null,
      "outputs": [
        {
          "output_type": "stream",
          "name": "stdout",
          "text": [
            "-1.9856027629739963\n"
          ]
        }
      ]
    },
    {
      "cell_type": "code",
      "source": [
        "print(simpsons_rule(lower_limit, upper_limit, 6))"
      ],
      "metadata": {
        "colab": {
          "base_uri": "https://localhost:8080/"
        },
        "id": "WHCpyq7AF11N",
        "outputId": "760ab314-2e24-4864-b838-498dbb3b71e8"
      },
      "execution_count": null,
      "outputs": [
        {
          "output_type": "stream",
          "name": "stdout",
          "text": [
            "-1.997344311648459\n"
          ]
        }
      ]
    }
  ]
}