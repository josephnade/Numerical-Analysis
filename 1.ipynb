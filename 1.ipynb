{
  "nbformat": 4,
  "nbformat_minor": 0,
  "metadata": {
    "colab": {
      "name": "171805020_181805063.ipynb",
      "provenance": []
    },
    "kernelspec": {
      "name": "python3",
      "display_name": "Python 3"
    },
    "language_info": {
      "name": "python"
    }
  },
  "cells": [
    {
      "cell_type": "code",
      "metadata": {
        "colab": {
          "base_uri": "https://localhost:8080/"
        },
        "id": "Hf88rM7Tes2j",
        "outputId": "5c821b6f-ecec-40f0-e7ad-b436c115031d"
      },
      "source": [
        "import numpy as np\n",
        "import math\n",
        "\n",
        "\n",
        "# APPROXİMATE Π+EX WİTH SİX SİGNİFİCANT DİGİTS BY USİNG THE FİRST FİVE TERMS OF THE TAYLOR SERİES\n",
        "# EXPANSİON FOR X=2. EXPLAİN WHAT TYPE OF ERROR WE ARE DEALİNG WİTH FOR THİS PROBLEM. CALCULATE\n",
        "# ABSOLUTE ERROR, RELATİVE ERROR AND PERCENTAGE ERROR.\n",
        "# RESİDUAL ERROR/TRUNCATİON ERROR/APPROXİMATİON ERROR\n",
        "def epowerxpluspi(x, n, a):\n",
        "    result = 0\n",
        "    # x = 0    a = 2\n",
        "    if n == 1:\n",
        "        result = np.pi + np.e ** x\n",
        "    else:\n",
        "        for i in range(n):\n",
        "            result += x**i/math.factorial(i)\n",
        "        result += np.pi\n",
        "    return result\n",
        "\n",
        "\n",
        "def absoluteerror(x, n):\n",
        "    absoluteerror = np.pi + np.e ** x - epowerxpluspi(x, n, a)\n",
        "    return np.abs(absoluteerror)\n",
        "\n",
        "\n",
        "def relativeerror(x, n):\n",
        "    relativeerror = absoluteerror(x, n) / (np.pi + np.e ** x)\n",
        "    return relativeerror\n",
        "\n",
        "\n",
        "def percentageerror(x, n):\n",
        "    percentageerror = relativeerror(x, n) * 100\n",
        "    return percentageerror\n",
        "\n",
        "\n",
        "n = -1\n",
        "x = -1\n",
        "a = 2\n",
        "while x < 0:\n",
        "    x = int(input(\"Please enter the x number = \"))\n",
        "while n <= 0:\n",
        "    n = int(input(\"Please enter the how many term you want in Taylor series = \"))\n",
        "\n",
        "print(\n",
        "    \"********************\\n\\nExact value : {:.6}\\nApproximate value : {:.6} \\nAbsolute error : {:.6}\\nRelative error : {:.6}\\nPercentage error : {:.6}\"\n",
        "        .format(np.pi + np.e ** x, epowerxpluspi(x, n, a), absoluteerror(x, n), relativeerror(x, n),\n",
        "                percentageerror(x, n)))"
      ],
      "execution_count": 2,
      "outputs": [
        {
          "output_type": "stream",
          "name": "stdout",
          "text": [
            "Please enter the x number = 2\n",
            "Please enter the how many term you want in Taylor series = 5\n",
            "********************\n",
            "\n",
            "Exact value : 10.5306\n",
            "Approximate value : 10.1416 \n",
            "Absolute error : 0.389056\n",
            "Relative error : 0.0369451\n",
            "Percentage error : 3.69451\n"
          ]
        }
      ]
    },
    {
      "cell_type": "code",
      "metadata": {
        "colab": {
          "base_uri": "https://localhost:8080/"
        },
        "id": "JoMpOG7Yez_1",
        "outputId": "d51f6638-2819-49c5-94a0-b8e43afe6720"
      },
      "source": [
        "# Use Gauss elimination to solve the equations below.\n",
        "\n",
        "def gausselimination(a, n, x):\n",
        "    for i in range(n):\n",
        "        for j in range(i + 1, n):\n",
        "            ratio = a[j][i] / a[i][i]\n",
        "            for k in range(n + 1):\n",
        "                a[j][k] = a[j][k] - ratio * a[i][k] #ratio that giving do to 0\n",
        "\n",
        "    x[n - 1] = a[n - 1][n] / a[n - 1][n - 1]\n",
        "\n",
        "    for i in range(n - 2, -1, -1):\n",
        "        x[i] = a[i][n]\n",
        "\n",
        "        for j in range(i + 1, n):\n",
        "            x[i] = x[i] - a[i][j] * x[j]\n",
        "\n",
        "        x[i] = x[i] / a[i][i]\n",
        "    return x\n",
        "\n",
        "\n",
        "n = 3 #number of unknown\n",
        "x = [0, 0, 0]\n",
        "augmentedmatrix = [[2, 1, -4, -7], [1, -1, 1, -2], [-1, 3, -2, 6]]\n",
        "\n",
        "for i in range(n):\n",
        "    for j in range(n + 1):\n",
        "        augmentedmatrix[i][j] = float(augmentedmatrix[i][j])\n",
        "answers = gausselimination(augmentedmatrix, n, x)\n",
        "\n",
        "print(\"\\n********************\\n\\nx = {}\\ny = {}\\nz = {}\\n\".format(answers[0], answers[1], answers[2]))\n",
        "\n"
      ],
      "execution_count": 3,
      "outputs": [
        {
          "output_type": "stream",
          "name": "stdout",
          "text": [
            "\n",
            "********************\n",
            "\n",
            "x = -1.0\n",
            "y = 3.0\n",
            "z = 2.0\n",
            "\n"
          ]
        }
      ]
    },
    {
      "cell_type": "code",
      "metadata": {
        "colab": {
          "base_uri": "https://localhost:8080/"
        },
        "id": "KdJMihSefKlo",
        "outputId": "8724c610-6382-49f5-a4f6-329dd77b824c"
      },
      "source": [
        "# 3. Solve the equations by Doolittle’s decomposition method where\n",
        "def doolittle(a, n):\n",
        "    L = np.zeros((n, n)) #lower triangular matrix\n",
        "    for i in range(n):\n",
        "        L[i][i] = 1\n",
        "    for i in range(n):\n",
        "        for j in range(i + 1, n):\n",
        "            ratio = a[j][i] / a[i][i] #ratio that giving do to 0\n",
        "            L[j][i] = ratio\n",
        "            for k in range(n):\n",
        "                a[j][k] = a[j][k] - ratio * a[i][k]\n",
        "    y = [0, 0, 0] #L x y = b\n",
        "    x = [0, 0, 0]\n",
        "    y[0] = b[0] / L[0][0] # y = L / b\n",
        "    for i in range(n):\n",
        "        result = 0\n",
        "        i += 1\n",
        "        if i == 3:\n",
        "            break\n",
        "        for j in range(i):\n",
        "            result = L[i][j] * y[j]\n",
        "        y[i] = b[i] - result\n",
        "        i -= 1\n",
        "\n",
        "    x[n - 1] = y[n - 1] / a[n - 1][n - 1] #U * x = y     x = y / U\n",
        "    i = n - 2\n",
        "    while i > -1:\n",
        "        result = 0\n",
        "        j = n - 1\n",
        "        while j > i:\n",
        "            result += x[j] * a[i][j]\n",
        "            j -= 1\n",
        "        x[i] = (y[i] - result) / a[i][j]\n",
        "        i -= 1\n",
        "    return x\n",
        "\n",
        "\n",
        "augmentedmatrix2 = np.array([[3, 1, 2], [6, 3, 4], [3, 1, 5]]) #augmented matrix\n",
        "b = [0, 1, 3] # b is equivalent of each row\n",
        "print(\"********************\\n\\nx vector is \" + str(doolittle(augmentedmatrix2, 3)) + \"\\n\\n\")\n"
      ],
      "execution_count": 4,
      "outputs": [
        {
          "output_type": "stream",
          "name": "stdout",
          "text": [
            "********************\n",
            "\n",
            "x vector is [-1.0, 1.0, 1.0]\n",
            "\n",
            "\n"
          ]
        }
      ]
    },
    {
      "cell_type": "code",
      "metadata": {
        "colab": {
          "base_uri": "https://localhost:8080/"
        },
        "id": "Yt0aC4jxfYHs",
        "outputId": "33f08c43-7275-48dc-9814-2bbdc9e1b61d"
      },
      "source": [
        "# Rearrange the equations to form a strictly diagonally dominant system. Apply three steps of\n",
        "# Jacobi method from starting vector [0, 0, 0].\n",
        "# finding max for column\n",
        "def maxforcolumn(amt, n):\n",
        "    tempvector = [0, 0, 0] #holding vector for changing row\n",
        "    tempvector2 = [0, 0, 0, 0] #holding vector for changing row\n",
        "    for i in range(n):\n",
        "        for j in range(n):\n",
        "            tempvector[j] = amt[j][i]\n",
        "            maxindex = tempvector.index(max(tempvector))\n",
        "        for k in range(n + 1):\n",
        "            tempvector2[k] = amt[i][k]\n",
        "            amt[i][k] = amt[maxindex][k]\n",
        "            amt[maxindex][k] = tempvector2[k]\n",
        "\n",
        "\n",
        "def jacobimethod(amt, n, x0, iteration):\n",
        "    maxforcolumn(amt, n)\n",
        "    x1 = [0, 0, 0] # holding vector\n",
        "    for i in range(n):\n",
        "        result = 0.0\n",
        "        for k in range(n):\n",
        "            if k == i:\n",
        "                continue\n",
        "            result = result + (amt[i][k] * x0[k])\n",
        "        x1[i] = (-result + amt[i][n]) / amt[i][i]\n",
        "    for j in range(n):\n",
        "        x0[j] = x1[j]\n",
        "    print(\"********************\\n\\n{}. iteration, x vector is {} \\n\".format(iteration + 1, x0))\n",
        "    return x0\n",
        "\n",
        "\n",
        "iter = 3  # number of iteration\n",
        "n = 3  # number of unknown\n",
        "augmentedmatrix3 = [[1, -8, -2, 1], [1, 1, 5, 4], [3, -1, 1, -2]]  # our augmented matrix\n",
        "for i in range(n):\n",
        "    for j in range(n):\n",
        "        float(augmentedmatrix3[i][j])\n",
        "for i in range(n):\n",
        "    x0 = [0, 0, 0] # beginning vector\n",
        "\n",
        "for i in range(iter):\n",
        "    x0 = jacobimethod(augmentedmatrix3, n, x0, i)\n"
      ],
      "execution_count": 5,
      "outputs": [
        {
          "output_type": "stream",
          "name": "stdout",
          "text": [
            "********************\n",
            "\n",
            "1. iteration, x vector is [-0.6666666666666666, -0.125, 0.8] \n",
            "\n",
            "********************\n",
            "\n",
            "2. iteration, x vector is [-0.975, -0.4083333333333333, 0.9583333333333334] \n",
            "\n",
            "********************\n",
            "\n",
            "3. iteration, x vector is [-1.1222222222222222, -0.4864583333333333, 1.0766666666666667] \n",
            "\n"
          ]
        }
      ]
    }
  ]
}